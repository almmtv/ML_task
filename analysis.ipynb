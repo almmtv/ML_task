{
 "cells": [
  {
   "cell_type": "code",
   "execution_count": 1,
   "metadata": {},
   "outputs": [],
   "source": [
    "import pandas as pd\n",
    "import urllib\n",
    "from pandas_profiling import ProfileReport\n",
    "\n",
    "\n",
    "# date format: UNIX timestamp\n",
    "def stock_candles(stock_name, date_from, date_to, api_key):\n",
    "    link = 'https://finnhub.io/api/v1/stock/candle?symbol=' + stock_name + '&format=csv&resolution=D&from=' + date_from\\\n",
    "           + '&to=' + date_to + '&token=' + api_key\n",
    "    try:\n",
    "        candles = pd.read_csv(link, delimiter=',', index_col='t')\n",
    "    except urllib.error.URLError:\n",
    "        print('Connection error or Wrong token')\n",
    "        candles = pd.DataFrame()\n",
    "    return candles"
   ]
  },
  {
   "cell_type": "code",
   "execution_count": 2,
   "metadata": {
    "pycharm": {
     "name": "#%%\n"
    }
   },
   "outputs": [
    {
     "data": {
      "text/plain": "Summarize dataset:   0%|          | 0/19 [00:00<?, ?it/s]",
      "application/vnd.jupyter.widget-view+json": {
       "version_major": 2,
       "version_minor": 0,
       "model_id": "a26b164ce0fa4b5ab6739f033d9f970d"
      }
     },
     "metadata": {},
     "output_type": "display_data"
    },
    {
     "data": {
      "text/plain": "Generate report structure:   0%|          | 0/1 [00:00<?, ?it/s]",
      "application/vnd.jupyter.widget-view+json": {
       "version_major": 2,
       "version_minor": 0,
       "model_id": "02bad70ea7f849708873667aa543737a"
      }
     },
     "metadata": {},
     "output_type": "display_data"
    },
    {
     "data": {
      "text/plain": "Render widgets:   0%|          | 0/1 [00:00<?, ?it/s]",
      "application/vnd.jupyter.widget-view+json": {
       "version_major": 2,
       "version_minor": 0,
       "model_id": "faccc78de16f4da78b61751c94385642"
      }
     },
     "metadata": {},
     "output_type": "display_data"
    },
    {
     "data": {
      "text/plain": "VBox(children=(Tab(children=(Tab(children=(GridBox(children=(VBox(children=(GridspecLayout(children=(HTML(valu…",
      "application/vnd.jupyter.widget-view+json": {
       "version_major": 2,
       "version_minor": 0,
       "model_id": "d9a873cedf78482dab739f1879131ef9"
      }
     },
     "metadata": {},
     "output_type": "display_data"
    }
   ],
   "source": [
    "stock = 'AMZN'\n",
    "token = 'c240262ad3iaqj3tjgng'\n",
    "data = stock_candles(stock, '1585699200', '1617235200', token)\n",
    "if not data.empty:\n",
    "    profile = ProfileReport(data, title='Pandas Profiling Report', explorative=True)\n",
    "    profile.to_widgets()"
   ]
  }
 ],
 "metadata": {
  "kernelspec": {
   "display_name": "Python 3",
   "language": "python",
   "name": "python3"
  },
  "language_info": {
   "codemirror_mode": {
    "name": "ipython",
    "version": 3
   },
   "file_extension": ".py",
   "mimetype": "text/x-python",
   "name": "python",
   "nbconvert_exporter": "python",
   "pygments_lexer": "ipython3",
   "version": "3.9.4"
  }
 },
 "nbformat": 4,
 "nbformat_minor": 1
}