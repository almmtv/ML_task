{
 "cells": [
  {
   "cell_type": "code",
   "execution_count": 87,
   "metadata": {
    "collapsed": true
   },
   "outputs": [],
   "source": [
    "import pandas as pd\n",
    "import urllib\n",
    "from pandas_profiling import ProfileReport\n",
    "\n",
    "\n",
    "# date format: UNIX timestamp\n",
    "def stock_candles(stock_name, date_from, date_to, api_key):\n",
    "    link = 'https://finnhub.io/api/v1/stock/candle?symbol=' + stock_name + '&format=csv&resolution=D&from=' + date_from\\\n",
    "           + '&to=' + date_to + '&token=' + api_key\n",
    "    try:\n",
    "        candles = pd.read_csv(link, delimiter=',', index_col='t')\n",
    "    except urllib.error.URLError:\n",
    "        print('Connection error or Wrong token')\n",
    "        candles = pd.DataFrame()\n",
    "    return candles"
   ]
  },
  {
   "cell_type": "code",
   "execution_count": 88,
   "outputs": [
    {
     "data": {
      "text/plain": "Summarize dataset:   0%|          | 0/19 [00:00<?, ?it/s]",
      "application/vnd.jupyter.widget-view+json": {
       "version_major": 2,
       "version_minor": 0,
       "model_id": "578a26e8cae94551a1c5de2e4e81c780"
      }
     },
     "metadata": {},
     "output_type": "display_data"
    },
    {
     "data": {
      "text/plain": "Generate report structure:   0%|          | 0/1 [00:00<?, ?it/s]",
      "application/vnd.jupyter.widget-view+json": {
       "version_major": 2,
       "version_minor": 0,
       "model_id": "67da8bee9f82415a92dcfb1a14656747"
      }
     },
     "metadata": {},
     "output_type": "display_data"
    },
    {
     "data": {
      "text/plain": "Render widgets:   0%|          | 0/1 [00:00<?, ?it/s]",
      "application/vnd.jupyter.widget-view+json": {
       "version_major": 2,
       "version_minor": 0,
       "model_id": "f36024eef8704d6d9ba362e77c4e58dc"
      }
     },
     "metadata": {},
     "output_type": "display_data"
    },
    {
     "data": {
      "text/plain": "VBox(children=(Tab(children=(Tab(children=(GridBox(children=(VBox(children=(GridspecLayout(children=(HTML(valu…",
      "application/vnd.jupyter.widget-view+json": {
       "version_major": 2,
       "version_minor": 0,
       "model_id": "a0e670df68a54dfaae1132f03647fae3"
      }
     },
     "metadata": {},
     "output_type": "display_data"
    }
   ],
   "source": [
    "stock = 'AMZN'\n",
    "token = 'c240262ad3iaqj3tjgng'\n",
    "data = stock_candles(stock, '1585699200', '1617235200', token)\n",
    "if not data.empty:\n",
    "    profile = ProfileReport(data, title='Pandas Profiling Report', explorative=True)\n",
    "    profile.to_widgets()"
   ],
   "metadata": {
    "collapsed": false,
    "pycharm": {
     "name": "#%%\n"
    }
   }
  }
 ],
 "metadata": {
  "kernelspec": {
   "display_name": "Python 3",
   "language": "python",
   "name": "python3"
  },
  "language_info": {
   "codemirror_mode": {
    "name": "ipython",
    "version": 2
   },
   "file_extension": ".py",
   "mimetype": "text/x-python",
   "name": "python",
   "nbconvert_exporter": "python",
   "pygments_lexer": "ipython2",
   "version": "2.7.6"
  }
 },
 "nbformat": 4,
 "nbformat_minor": 0
}