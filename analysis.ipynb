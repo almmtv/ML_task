{
 "cells": [
  {
   "cell_type": "code",
   "execution_count": 85,
   "metadata": {
    "collapsed": true
   },
   "outputs": [],
   "source": [
    "import pandas as pd\n",
    "import urllib\n",
    "from pandas_profiling import ProfileReport\n",
    "\n",
    "\n",
    "# date format: UNIX timestamp\n",
    "def stock_candles(stock_name, date_from, date_to, api_key):\n",
    "    link = 'https://finnhub.io/api/v1/stock/candle?symbol=' + stock_name + '&format=csv&resolution=D&from=' + date_from\\\n",
    "           + '&to=' + date_to + '&token=' + api_key\n",
    "    try:\n",
    "        candles = pd.read_csv(link, delimiter=',', index_col='t')\n",
    "    except urllib.error.URLError:\n",
    "        print('Connection error or Wrong token')\n",
    "        candles = pd.DataFrame()\n",
    "    return candles"
   ]
  },
  {
   "cell_type": "code",
   "execution_count": 86,
   "outputs": [
    {
     "data": {
      "text/plain": "Summarize dataset:   0%|          | 0/19 [00:00<?, ?it/s]",
      "application/vnd.jupyter.widget-view+json": {
       "version_major": 2,
       "version_minor": 0,
       "model_id": "f6d3931dc93c48359792ea76f1b35591"
      }
     },
     "metadata": {},
     "output_type": "display_data"
    },
    {
     "data": {
      "text/plain": "Generate report structure:   0%|          | 0/1 [00:00<?, ?it/s]",
      "application/vnd.jupyter.widget-view+json": {
       "version_major": 2,
       "version_minor": 0,
       "model_id": "0969a509b9a14ae083aa5c420de472eb"
      }
     },
     "metadata": {},
     "output_type": "display_data"
    },
    {
     "data": {
      "text/plain": "Render widgets:   0%|          | 0/1 [00:00<?, ?it/s]",
      "application/vnd.jupyter.widget-view+json": {
       "version_major": 2,
       "version_minor": 0,
       "model_id": "4299a8003e7d42aca9dc10693b518a1f"
      }
     },
     "metadata": {},
     "output_type": "display_data"
    },
    {
     "data": {
      "text/plain": "VBox(children=(Tab(children=(Tab(children=(GridBox(children=(VBox(children=(GridspecLayout(children=(HTML(valu…",
      "application/vnd.jupyter.widget-view+json": {
       "version_major": 2,
       "version_minor": 0,
       "model_id": "817fe3d5a15c471eadbee8120f902e9e"
      }
     },
     "metadata": {},
     "output_type": "display_data"
    }
   ],
   "source": [
    "stock = 'AMZN'\n",
    "token = 'c240262ad3iaqj3tjgng'\n",
    "data = stock_candles(stock, '1585699200', '1617235200', token)\n",
    "if not data.empty:\n",
    "    profile = ProfileReport(data, title='Pandas Profiling Report', explorative=True)\n",
    "    profile.to_widgets()"
   ],
   "metadata": {
    "collapsed": false,
    "pycharm": {
     "name": "#%%\n"
    }
   }
  }
 ],
 "metadata": {
  "kernelspec": {
   "display_name": "Python 3",
   "language": "python",
   "name": "python3"
  },
  "language_info": {
   "codemirror_mode": {
    "name": "ipython",
    "version": 2
   },
   "file_extension": ".py",
   "mimetype": "text/x-python",
   "name": "python",
   "nbconvert_exporter": "python",
   "pygments_lexer": "ipython2",
   "version": "2.7.6"
  }
 },
 "nbformat": 4,
 "nbformat_minor": 0
}